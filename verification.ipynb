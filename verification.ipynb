{
 "cells": [
  {
   "cell_type": "markdown",
   "metadata": {},
   "source": [
    "## Verification program\n",
    "by [Lei You](https://leiyou.me/)"
   ]
  },
  {
   "cell_type": "code",
   "execution_count": 102,
   "metadata": {},
   "outputs": [],
   "source": [
    "import numpy as np\n",
    "import pandas as pd\n",
    "import scipy.io\n",
    "import math\n",
    "from ast import literal_eval"
   ]
  },
  {
   "cell_type": "code",
   "execution_count": 103,
   "metadata": {},
   "outputs": [],
   "source": [
    "def dbm_to_mw(x):\n",
    "    return 10**(x/10)\n",
    "\n",
    "def w(j, load):\n",
    "    i = cell_of_ues[j]\n",
    "    gain_ij = gain_mat[i][j]\n",
    "    inter_cell_interf_j = np.dot(power*load, gain_mat[:,j]) - power[i]*load[i]*gain_ij\n",
    "    w_j = (inter_cell_interf_j + noise) / gain_ij\n",
    "    \n",
    "    return w_j\n",
    "\n",
    "\n",
    "def sinr_oma(j, load):\n",
    "    i = cell_of_ues[j]\n",
    "    w_j = w(j, load)\n",
    "    return power[i] / w_j\n",
    "\n",
    "def sinr_noma(j, h, q_j, q_h, load):\n",
    "    w_j = w(j, load)\n",
    "    w_h = w(h, load)\n",
    "    \n",
    "    theta_hj = 1 if w_h<=w_j else 0\n",
    "    if w_h==w_j:\n",
    "        theta_hj = 1 if j<h else 0\n",
    "    \n",
    "    sinr = q_j / (q_h * theta_hj + w_j)\n",
    "    return sinr\n",
    "\n",
    "def demand_oma(j, x_j, load):\n",
    "    \"\"\"\n",
    "         j: index of UE\n",
    "       x_j: resource allocated to UE j for doing OMA\n",
    "      load: vector of converged network load\n",
    "    \"\"\"\n",
    "    return x_j * math.log2(1+sinr_oma(j,load))\n",
    "\n",
    "def demand_noma(j, h, q_j, q_h, x_u, load):\n",
    "    \"\"\"\n",
    "        j: index of UE\n",
    "        h: index of UE \n",
    "      x_u: resource allocated to pair(j,h) for doing NOMA\n",
    "     load: vector of converged network load\n",
    "      q_j: power split of UE j\n",
    "      q_h: power split of UE h\n",
    "    \"\"\"\n",
    "    return x_u * math.log2(1+sinr_noma(j, h, q_j, q_h, load))\n"
   ]
  },
  {
   "cell_type": "code",
   "execution_count": 104,
   "metadata": {},
   "outputs": [],
   "source": [
    "# Parameter settings\n",
    "gain_mat_dbm = scipy.io.loadmat('Gain_7-2-30.mat')['gain']\n",
    "gain_mat = np.array(list(map(dbm_to_mw, gain_mat_dbm)))\n",
    "\n",
    "N_CELL, N_UE = gain_mat_dbm.shape\n",
    "\n",
    "cell_list = range(N_CELL)\n",
    "ue_list = range(N_UE)\n",
    "\n",
    "# sigma\n",
    "sigma = dbm_to_mw(-174)\n",
    "\n",
    "# bandwidth on one RU\n",
    "bandwidth = 180000\n",
    "\n",
    "# noise\n",
    "noise = sigma * bandwidth\n",
    "\n",
    "# normalized demand\n",
    "demand = 0.0967\n",
    "demand_list = np.array([demand for j in range(N_UE)])\n",
    "\n",
    "# association\n",
    "cell_of_ues = list(map(int,scipy.io.loadmat('cell_of_ues.mat')['association'][0]))\n",
    "\n",
    "# cell power\n",
    "N_MACRO = 7\n",
    "N_SMALL = N_CELL - N_MACRO\n",
    "# power per RU in mw\n",
    "p_macro_ru = 200 \n",
    "p_small_ru = 50\n",
    "power = np.array([p_macro_ru for i in range(N_MACRO)] + [p_small_ru for i in range(N_SMALL)])\n"
   ]
  },
  {
   "cell_type": "code",
   "execution_count": 105,
   "metadata": {},
   "outputs": [],
   "source": [
    "# below is the final solution you got from your program. \n",
    "# All of them are vectors, of which the elements are respectively for cells, sequentially from 0 to N_CELL-1\n",
    "\n",
    "solution=pd.read_csv('solution.csv')\n",
    "\n",
    "noma_load = list(map(float,solution['noma_load']))\n",
    "power_allocation = list(map(literal_eval,solution['power_allocation']))\n",
    "resource_allocation_oma = list(map(literal_eval,solution['resource_allocation_oma']))\n",
    "resource_allocation_noma = list(map(literal_eval,solution['resource_allocation_noma']))\n",
    "pair_selection = list(map(literal_eval,solution['pair_selection']))"
   ]
  },
  {
   "cell_type": "code",
   "execution_count": 106,
   "metadata": {},
   "outputs": [
    {
     "name": "stdout",
     "output_type": "stream",
     "text": [
      "        UE         d_oma  d_noma       d\n",
      "0      0.0  0.000000e+00  0.0967  0.0967\n",
      "1      1.0  0.000000e+00  0.0967  0.0967\n",
      "2      2.0  0.000000e+00  0.0967  0.0967\n",
      "3      3.0  2.721158e-08  0.0967  0.0967\n",
      "4      4.0  4.658306e-08  0.0967  0.0967\n",
      "..     ...           ...     ...     ...\n",
      "205  205.0  6.744687e-10  0.0967  0.0967\n",
      "206  206.0  2.781899e-08  0.0967  0.0967\n",
      "207  207.0  0.000000e+00  0.0967  0.0967\n",
      "208  208.0  2.540643e-09  0.0967  0.0967\n",
      "209  209.0  1.384295e-08  0.0967  0.0967\n",
      "\n",
      "[210 rows x 4 columns]\n"
     ]
    }
   ],
   "source": [
    "df = pd.DataFrame()\n",
    "for j in ue_list:\n",
    "    d_j = demand_list[j]\n",
    "    \n",
    "    i = cell_of_ues[j]\n",
    "    \n",
    "    x_j = resource_allocation_oma[i][j]\n",
    "    d_j_oma = demand_oma(j, x_j, noma_load)\n",
    "    \n",
    "    h = -1\n",
    "    for pair in pair_selection[i]:\n",
    "        if j in pair:\n",
    "            h = pair[0] if pair[1]==j else pair[1]\n",
    "    if h>=0:\n",
    "        x_u = resource_allocation_noma[i][pair]\n",
    "        if j==pair[0]:\n",
    "            q_j, q_h = power_allocation[i][pair]\n",
    "            d_j_noma = demand_noma(pair[0], pair[1], q_j, q_h, x_u, noma_load)\n",
    "        else:\n",
    "            q_h, q_j = power_allocation[i][pair]\n",
    "            d_j_noma = demand_noma(pair[1], pair[0], q_j, q_h, x_u, noma_load)\n",
    "    else:\n",
    "        d_j_noma = 0\n",
    "    df = df.append({'UE': j, 'd_oma': d_j_oma, 'd_noma': d_j_noma, 'd': d_j}, ignore_index=True)\n",
    "    \n",
    "df = df[['UE', 'd_oma', 'd_noma', 'd']].sort_values(by='UE')\n",
    "\n",
    "df.to_csv('table.csv', index=False)\n",
    "print(df)"
   ]
  }
 ],
 "metadata": {
  "kernelspec": {
   "display_name": "Python 3",
   "language": "python",
   "name": "python3"
  },
  "language_info": {
   "codemirror_mode": {
    "name": "ipython",
    "version": 3
   },
   "file_extension": ".py",
   "mimetype": "text/x-python",
   "name": "python",
   "nbconvert_exporter": "python",
   "pygments_lexer": "ipython3",
   "version": "3.7.6"
  }
 },
 "nbformat": 4,
 "nbformat_minor": 4
}
